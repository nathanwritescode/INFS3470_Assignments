{
 "cells": [
  {
   "cell_type": "markdown",
   "metadata": {},
   "source": [
    "<h3>INFS/BIA 3470 - Spring 2019 - Programming Assignment 1 (PA1)</h3>\n",
    "<p>Our first programming assignment will be a series of short practice exercises.  Please write your Python solution in the cell below each question.</p>\n"
   ]
  },
  {
   "cell_type": "markdown",
   "metadata": {},
   "source": [
    "<p><b>(1) 5 pts</b> - Rename this file to be YourLastName_PA1 (use your last name!)</p>\n"
   ]
  },
  {
   "cell_type": "markdown",
   "metadata": {},
   "source": [
    "<p><b>(2) 5 pts</b> - Prompt the user to enter the cost of their meal.  Next, prompt the user to enter in the percentage amount they wish to tip.  Finally, calculate and print the tip cost and total meal cost.  (Tip cost is equal to meal cost * tip percentage divided by 100.)</p>"
   ]
  },
  {
   "cell_type": "code",
   "execution_count": 2,
   "metadata": {},
   "outputs": [
    {
     "ename": "SyntaxError",
     "evalue": "invalid syntax (<ipython-input-2-a15544e7f119>, line 6)",
     "output_type": "error",
     "traceback": [
      "\u001b[0;36m  File \u001b[0;32m\"<ipython-input-2-a15544e7f119>\"\u001b[0;36m, line \u001b[0;32m6\u001b[0m\n\u001b[0;31m    print(\"Total Cost: $ %.2f\" %(mTipCost + mCost))\u001b[0m\n\u001b[0m        ^\u001b[0m\n\u001b[0;31mSyntaxError\u001b[0m\u001b[0;31m:\u001b[0m invalid syntax\n"
     ]
    }
   ],
   "source": [
    "# Your solution for (2) below:\n",
    "mCost = float(input('Please enter the cost of your meal: $'))\n",
    "mTip = float(input(\"Please enter the percentage you would like to tip as a decimal: \"))\n",
    "mTipCost = mCost * mTip\n",
    "print(\"Tip cost: $ %.2f /n Total Cost $ %.2f\" %(mTipCost,mTipCost + mCost )\n",
    "print(\"Total Cost: $ %.2f\" %(mTipCost + mCost))"
   ]
  },
  {
   "cell_type": "markdown",
   "metadata": {},
   "source": [
    "<p><b>(3) 5 pts</b> - Given a list of quarterback names and 2-digit jersey numbers as a single string value (i.e. Name01), write a Python algorithm that will calculate and display the average jersey number for all names in the list.</p>"
   ]
  },
  {
   "cell_type": "code",
   "execution_count": 24,
   "metadata": {},
   "outputs": [
    {
     "name": "stdout",
     "output_type": "stream",
     "text": [
      "8.5\n"
     ]
    }
   ],
   "source": [
    "qbs = ['Allen17','Bortles05','Brady12','Brees09','Carr04','Cassel08','Cousins08',\n",
    "         'Dalton14','Fitzpatrick14','Flacco05','Foles09','Garoppalo10','Gilbert03',\n",
    "         'Goff16','Jackson08','Keenum04','Luck12','Mahomes15','Manning10','Mariota08',\n",
    "         'Mayfield06','Mullens04','Newton01','Osweiler08','Prescott04','Rivers17',\n",
    "         'Rodgers12','Roethlisberger07','Rosen03','Ryan02','Smith11','Stafford09',\n",
    "         'Tannehill17','Trubisky10','Watson04','Wentz11','Wilson03','Winston03']\n",
    "\n",
    "# Your solution for (3) below:\n",
    "\n",
    "counter = 0\n",
    "total = 0\n",
    "for name in qbs:\n",
    "    total += int(name[-2:])\n",
    "    counter += 1\n",
    "print(total/counter)\n",
    "    "
   ]
  },
  {
   "cell_type": "markdown",
   "metadata": {},
   "source": [
    "<p><b>(4) 5 pts</b> - Prompt the user to enter their first name.  Then prompt the user to enter their last name.  Create a password based on these values using the following criteria:</p>\n",
    "<ul><li>The password will be the user's first name, followed by the number of vowels (a,e,i,o, or u) in the first name, followed by the reversed characters of the last name, followed by a symbol</li>\n",
    "    <li>If the number of counted vowels is less than or equal to 2, the added symbol should be a '#' character. Otherwise it should be a '!' character.</li>\n",
    "    <li>Alternate capitalization of each letter in the password, starting with a lower case, then upper, then lower, etc.</li></ul>\n",
    "<p>Example: First name: Leia, Last name: Skywalker, Password: <b><code>lEiA3ReKlAwYkS!</code></b></p>"
   ]
  },
  {
   "cell_type": "code",
   "execution_count": 22,
   "metadata": {},
   "outputs": [
    {
     "name": "stdout",
     "output_type": "stream",
     "text": [
      "Please enter your first name: LEIA\n",
      "Please enter your last name: SKYWALKER\n",
      "Your password is: lEiA3ReKlAwYkS!\n"
     ]
    }
   ],
   "source": [
    "# Your solution for (4) below:\n",
    "\n",
    "fName = input(\"Please enter your first name: \").lower()\n",
    "lName = input(\"Please enter your last name: \")[::-1].lower()\n",
    "vCount = 0\n",
    "for char in fName:\n",
    "    if char in 'aeiou':\n",
    "        vCount += 1\n",
    "tPassword = fName + str(vCount) + lName\n",
    "if vCount <=2:\n",
    "    tPassword += '#'\n",
    "else:\n",
    "    tPassword += '!'\n",
    "password = [''] * len(tPassword)\n",
    "password[1::2], password[::2] = tPassword[1::2].upper(), tPassword[::2].lower()\n",
    "password = ''.join(password)\n",
    "print(\"Your password is: %s\" % (password))"
   ]
  },
  {
   "cell_type": "code",
   "execution_count": null,
   "metadata": {},
   "outputs": [],
   "source": []
  }
 ],
 "metadata": {
  "kernelspec": {
   "display_name": "Python 3",
   "language": "python",
   "name": "python3"
  },
  "language_info": {
   "codemirror_mode": {
    "name": "ipython",
    "version": 3
   },
   "file_extension": ".py",
   "mimetype": "text/x-python",
   "name": "python",
   "nbconvert_exporter": "python",
   "pygments_lexer": "ipython3",
   "version": "3.7.1"
  }
 },
 "nbformat": 4,
 "nbformat_minor": 2
}
