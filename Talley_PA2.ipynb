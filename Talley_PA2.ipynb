{
 "cells": [
  {
   "cell_type": "markdown",
   "metadata": {},
   "source": [
    "<h3>INFS/BIA 3470 - Spring 2019 - Programming Assignment 2 (PA2)</h3>\n",
    "<p>This programming assignment will focus on extracting information from data sets.  Use the .split() method and/or slicing to help accomplish each task.</p>\n"
   ]
  },
  {
   "cell_type": "markdown",
   "metadata": {},
   "source": [
    "<p><b>(1) 3 pts</b> - Rename this file to be YourLastName_PA2 (use your last name!)</p>"
   ]
  },
  {
   "cell_type": "markdown",
   "metadata": {},
   "source": [
    "<p><b>(2-5) 12 pts</b> - For each of the questions below, try to write the Python code that will extract the specified value from the data set</p>\n",
    "<p>Challenge: Can you do this in a single line of Python?</p>"
   ]
  },
  {
   "cell_type": "code",
   "execution_count": 1,
   "metadata": {},
   "outputs": [
    {
     "name": "stdout",
     "output_type": "stream",
     "text": [
      "Buonaparte\n"
     ]
    }
   ],
   "source": [
    "# (2) Print only the last name in the string below:\n",
    "name = \"Napoleone di Buonaparte\"\n",
    "print(name.split(' ')[-1])"
   ]
  },
  {
   "cell_type": "code",
   "execution_count": 13,
   "metadata": {},
   "outputs": [],
   "source": [
    "# (3) Print the sum of all numbers in the list below:\n",
    "data = [\"A\", 24, \"B\", 13.2, \"C\", 52.4, \"D\", 10.5, \"E\", 11]\n"
   ]
  },
  {
   "cell_type": "code",
   "execution_count": null,
   "metadata": {},
   "outputs": [],
   "source": [
    "# (4) Print the first letter of the second name in the string of names below:\n",
    "names = \"Michaelangelo,Leonardo,Raphael,Donatello\""
   ]
  },
  {
   "cell_type": "code",
   "execution_count": null,
   "metadata": {},
   "outputs": [],
   "source": [
    "# (5) Print the year of the last car in the list of tuples below:\n",
    "garage = [('Camaro', 1967), ('Mustang', 1970), ('Thunderbird', 1956), ('AC Cobra', 1962)]"
   ]
  },
  {
   "cell_type": "markdown",
   "metadata": {},
   "source": [
    "<p><b>(6) 5 pts</b> - Open the file PA2.txt and print the first and last word from the file. Save these results to an output file named YourLastName_output.txt (i.e. 'Murphy_output.txt')</p>"
   ]
  },
  {
   "cell_type": "code",
   "execution_count": null,
   "metadata": {},
   "outputs": [],
   "source": [
    "# Your code goes here"
   ]
  }
 ],
 "metadata": {
  "kernelspec": {
   "display_name": "Python 3",
   "language": "python",
   "name": "python3"
  },
  "language_info": {
   "codemirror_mode": {
    "name": "ipython",
    "version": 3
   },
   "file_extension": ".py",
   "mimetype": "text/x-python",
   "name": "python",
   "nbconvert_exporter": "python",
   "pygments_lexer": "ipython3",
   "version": "3.7.1"
  }
 },
 "nbformat": 4,
 "nbformat_minor": 2
}
