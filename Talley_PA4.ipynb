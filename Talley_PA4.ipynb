{
 "cells": [
  {
   "cell_type": "markdown",
   "metadata": {},
   "source": [
    "<h2>PA4 - 40 pts</h2>\n",
    "<h3>Change this filename to \"YourLastName_PA4\"</h3>\n",
    "<p>In this programming assignment, we will be practicing using BeautifulSoup to scrape data from the website <a href=\"http://quotes.toscrape.com\">quotes.toscrape.com</a></p>\n",
    "<p><b>Questions 1 through 4</b> will involve scraping the front page of this website. <br/><b>Questions 5 through 7</b> will involve making a request to a page within the site and scraping values from that page.<br/><b>Questions 8 through 10</b> will involve building a web crawler to navigate through a set of pages</p>\n"
   ]
  },
  {
   "cell_type": "code",
   "execution_count": 1,
   "metadata": {},
   "outputs": [],
   "source": [
    "# (1) import the requests module and BeautifulSoup from the bs4 module.\n",
    "# Make a soup object from the \"quotes.toscrape.com\" request content.\n",
    "# Add additional Jupyter Notebook cells as needed.\n",
    "import requests\n",
    "from bs4 import BeautifulSoup\n",
    "url = 'http://quotes.toscrape.com'\n",
    "page = requests.get(url)\n",
    "soup = BeautifulSoup(page.content, 'html.parser')"
   ]
  },
  {
   "cell_type": "code",
   "execution_count": 3,
   "metadata": {},
   "outputs": [
    {
     "name": "stdout",
     "output_type": "stream",
     "text": [
      "http://quotes.toscrape.com/\n",
      "http://quotes.toscrape.com/login\n",
      "http://quotes.toscrape.com/author/Albert-Einstein\n",
      "http://quotes.toscrape.com/tag/change/page/1/\n",
      "http://quotes.toscrape.com/tag/deep-thoughts/page/1/\n",
      "http://quotes.toscrape.com/tag/thinking/page/1/\n",
      "http://quotes.toscrape.com/tag/world/page/1/\n",
      "http://quotes.toscrape.com/author/J-K-Rowling\n",
      "http://quotes.toscrape.com/tag/abilities/page/1/\n",
      "http://quotes.toscrape.com/tag/choices/page/1/\n",
      "http://quotes.toscrape.com/author/Albert-Einstein\n",
      "http://quotes.toscrape.com/tag/inspirational/page/1/\n",
      "http://quotes.toscrape.com/tag/life/page/1/\n",
      "http://quotes.toscrape.com/tag/live/page/1/\n",
      "http://quotes.toscrape.com/tag/miracle/page/1/\n",
      "http://quotes.toscrape.com/tag/miracles/page/1/\n",
      "http://quotes.toscrape.com/author/Jane-Austen\n",
      "http://quotes.toscrape.com/tag/aliteracy/page/1/\n",
      "http://quotes.toscrape.com/tag/books/page/1/\n",
      "http://quotes.toscrape.com/tag/classic/page/1/\n",
      "http://quotes.toscrape.com/tag/humor/page/1/\n",
      "http://quotes.toscrape.com/author/Marilyn-Monroe\n",
      "http://quotes.toscrape.com/tag/be-yourself/page/1/\n",
      "http://quotes.toscrape.com/tag/inspirational/page/1/\n",
      "http://quotes.toscrape.com/author/Albert-Einstein\n",
      "http://quotes.toscrape.com/tag/adulthood/page/1/\n",
      "http://quotes.toscrape.com/tag/success/page/1/\n",
      "http://quotes.toscrape.com/tag/value/page/1/\n",
      "http://quotes.toscrape.com/author/Andre-Gide\n",
      "http://quotes.toscrape.com/tag/life/page/1/\n",
      "http://quotes.toscrape.com/tag/love/page/1/\n",
      "http://quotes.toscrape.com/author/Thomas-A-Edison\n",
      "http://quotes.toscrape.com/tag/edison/page/1/\n",
      "http://quotes.toscrape.com/tag/failure/page/1/\n",
      "http://quotes.toscrape.com/tag/inspirational/page/1/\n",
      "http://quotes.toscrape.com/tag/paraphrased/page/1/\n",
      "http://quotes.toscrape.com/author/Eleanor-Roosevelt\n",
      "http://quotes.toscrape.com/tag/misattributed-eleanor-roosevelt/page/1/\n",
      "http://quotes.toscrape.com/author/Steve-Martin\n",
      "http://quotes.toscrape.com/tag/humor/page/1/\n",
      "http://quotes.toscrape.com/tag/obvious/page/1/\n",
      "http://quotes.toscrape.com/tag/simile/page/1/\n",
      "http://quotes.toscrape.com/page/2/\n",
      "http://quotes.toscrape.com/tag/love/\n",
      "http://quotes.toscrape.com/tag/inspirational/\n",
      "http://quotes.toscrape.com/tag/life/\n",
      "http://quotes.toscrape.com/tag/humor/\n",
      "http://quotes.toscrape.com/tag/books/\n",
      "http://quotes.toscrape.com/tag/reading/\n",
      "http://quotes.toscrape.com/tag/friendship/\n",
      "http://quotes.toscrape.com/tag/friends/\n",
      "http://quotes.toscrape.com/tag/truth/\n",
      "http://quotes.toscrape.com/tag/simile/\n",
      "https://www.goodreads.com/quotes\n",
      "https://scrapinghub.com\n"
     ]
    }
   ],
   "source": [
    "# (2a) From the soup object, print the 'url' of all links in the page.\n",
    "# hint: print the 'href' content in all 'a' tags\n",
    "links = soup.find_all('a')\n",
    "for link in links:\n",
    "    if link['href'].startswith('/'):\n",
    "        print(url + link['href'])\n",
    "    else:\n",
    "        print(link['href'])"
   ]
  },
  {
   "cell_type": "code",
   "execution_count": 4,
   "metadata": {},
   "outputs": [
    {
     "name": "stdout",
     "output_type": "stream",
     "text": [
      "The number of author links is: 10\n"
     ]
    }
   ],
   "source": [
    "# (2b) Print the total number of links to an author page from this page.\n",
    "# i.e. how many of the links above are to an authors profile page\n",
    "authorcount = 0\n",
    "for link in links:\n",
    "    if link['href'].startswith('/author/'):\n",
    "        authorcount += 1\n",
    "print(\"The number of author links is: %i\" % authorcount)"
   ]
  },
  {
   "cell_type": "code",
   "execution_count": 5,
   "metadata": {},
   "outputs": [
    {
     "name": "stdout",
     "output_type": "stream",
     "text": [
      "“A day without sunshine is like, you know, night.”\n"
     ]
    }
   ],
   "source": [
    "# (3) From the soup object, print the quote from Steve Martin\n",
    "quotes = soup.find_all('span', {'itemprop' : 'text'})\n",
    "print(quotes[-1].text)"
   ]
  },
  {
   "cell_type": "code",
   "execution_count": 6,
   "metadata": {},
   "outputs": [
    {
     "name": "stdout",
     "output_type": "stream",
     "text": [
      "edison,failure,inspirational,paraphrased\n"
     ]
    }
   ],
   "source": [
    "# (4) From the soup object, print all Subject Tags associated with \n",
    "#     Thomas A. Edison's quote\n",
    "edison = soup.find('a', {'href' : '/tag/edison/page/1/'})\n",
    "edison = edison.parent\n",
    "edisonlist = edison.meta['content']\n",
    "print(edisonlist)"
   ]
  },
  {
   "cell_type": "markdown",
   "metadata": {},
   "source": [
    "<h3>Navigating to other pages within the site</h3>\n",
    "<p>Questions 5 through 7 will require pulling page content from other pages within the quotes.toscrape.com site</p>"
   ]
  },
  {
   "cell_type": "code",
   "execution_count": 7,
   "metadata": {},
   "outputs": [
    {
     "name": "stdout",
     "output_type": "stream",
     "text": [
      "Albert Einstein was born on March 14, 1879.\n"
     ]
    }
   ],
   "source": [
    "# (5) Scrape and print Albert Einstein's birthdate\n",
    "einsteinurl = 'http://quotes.toscrape.com/author/Albert-Einstein/'\n",
    "einsteinpage = requests.get(einsteinurl)\n",
    "einsteinsoup = BeautifulSoup(einsteinpage.content, 'html.parser')\n",
    "einsteinlist = einsteinsoup.find('span', {'class':'author-born-date'})\n",
    "print('Albert Einstein was born on %s.' %einsteinlist.text)"
   ]
  },
  {
   "cell_type": "code",
   "execution_count": 2,
   "metadata": {},
   "outputs": [
    {
     "name": "stdout",
     "output_type": "stream",
     "text": [
      "Jane Austen was born in Steventon Rectory, Hampshire, The United Kingdom.\n"
     ]
    }
   ],
   "source": [
    "# (6) Scrape and print Jane Austen's place of birth\n",
    "austenurl = 'http://quotes.toscrape.com/author/Jane-Austen/'\n",
    "austenpage = requests.get(austenurl)\n",
    "austensoup = BeautifulSoup(austenpage.content, 'html.parser')\n",
    "austenlist = austensoup.find('span', {'class':'author-born-location'})\n",
    "print('Jane Austen was born %s.' %austenlist.text)"
   ]
  },
  {
   "cell_type": "code",
   "execution_count": 9,
   "metadata": {},
   "outputs": [
    {
     "name": "stdout",
     "output_type": "stream",
     "text": [
      "“The reason I talk to myself is because I’m the only one whose answers I accept.”\n",
      "“A lie can travel half way around the world while the truth is putting on its shoes.”\n",
      "“The truth.\" Dumbledore sighed. \"It is a beautiful and terrible thing, and should therefore be treated with great caution.”\n",
      "“Never tell the truth to people who are not worthy of it.”\n"
     ]
    }
   ],
   "source": [
    "# (7) Print all quotes with the Subject Tag: 'truth'\n",
    "truthyurl = 'http://quotes.toscrape.com/tag/truth/page/1/'\n",
    "truthypage = requests.get(truthyurl)\n",
    "truthysoup = BeautifulSoup(truthypage.content, 'html.parser')\n",
    "truthylist = truthysoup.find_all('span', {'class':'text'})\n",
    "for quote in truthylist:\n",
    "    print(quote.text)"
   ]
  },
  {
   "cell_type": "markdown",
   "metadata": {},
   "source": [
    "<h3>Web crawling to extract larger data sets</h3>\n",
    "<p>Questions 8 through 10 will require building a web crawling algorithm to traverse the website to extract data</p>"
   ]
  },
  {
   "cell_type": "code",
   "execution_count": 10,
   "metadata": {},
   "outputs": [
    {
     "name": "stdout",
     "output_type": "stream",
     "text": [
      "['André Gide', 'Marilyn Monroe', 'Bob Marley', 'Elie Wiesel', 'Friedrich Nietzsche', 'Pablo Neruda', 'James Baldwin', 'Jane Austen', 'C.S. Lewis', 'Alfred Tennyson', 'J.M. Barrie']\n"
     ]
    }
   ],
   "source": [
    "# (8) Print a list of all author's names who have a quote with\n",
    "#     the Subject Tag \"love\"\n",
    "#     Note: each author's name should only print once.\n",
    "urltag = '/tag/love/page/1/'\n",
    "lovepage = requests.get(url+urltag)\n",
    "lovesoup = BeautifulSoup(lovepage.content, 'html.parser')\n",
    "loveauthors = []\n",
    "lovebool = bool(lovesoup.find('li', {'class':'next'}))\n",
    "while lovebool == True:\n",
    "    urltag = lovesoup.find('li', {'class':'next'}).a['href']\n",
    "    templist = lovesoup.find_all('small', {'class':'author'})\n",
    "    for author in templist:\n",
    "        if author.text not in loveauthors:\n",
    "            loveauthors.append(author.text)\n",
    "    lovepage = requests.get(url+urltag)\n",
    "    lovesoup = BeautifulSoup(lovepage.content, 'html.parser')\n",
    "    lovebool = bool(lovesoup.find('li', {'class':'next'}))\n",
    "# Capture last page\n",
    "templist = lovesoup.find_all('small', {'class':'author'})\n",
    "for author in templist:\n",
    "    if author.text not in loveauthors:\n",
    "        loveauthors.append(author.text)\n",
    "print(loveauthors)"
   ]
  },
  {
   "cell_type": "code",
   "execution_count": 11,
   "metadata": {},
   "outputs": [
    {
     "name": "stdout",
     "output_type": "stream",
     "text": [
      "“Good friends, good books, and a sleepy conscience: this is the ideal life.”\n",
      "“I have never let my schooling interfere with my education.”\n",
      "“′Classic′ - a book which people praise and don't read.”\n",
      "“The fear of death follows from the fear of life. A man who lives fully is prepared to die at any time.”\n",
      "“A lie can travel half way around the world while the truth is putting on its shoes.”\n",
      "“Never tell the truth to people who are not worthy of it.”\n"
     ]
    }
   ],
   "source": [
    "# (9) Print all quotes by Mark Twain found on this site. \n",
    "#     (not just the front page)\n",
    "# The complicated logic paid off here.\n",
    "urltag = ''\n",
    "twainpage = requests.get(url)\n",
    "twainsoup = BeautifulSoup(twainpage.content, 'html.parser')\n",
    "twainquotes = []\n",
    "twainbool = bool(twainsoup.find('li', {'class':'next'}))\n",
    "while twainbool == True:\n",
    "    urltag = twainsoup.find('li', {'class':'next'}).a['href']\n",
    "    templist = twainsoup.find_all('small', {'class':'author'})\n",
    "    for author in templist:\n",
    "        if str(author.text) == 'Mark Twain':\n",
    "            twainquotes.append(author.parent.parent.span.text)\n",
    "    twainpage = requests.get(url+urltag)\n",
    "    twainsoup = BeautifulSoup(twainpage.content, 'html.parser')\n",
    "    twainbool = bool(twainsoup.find('li', {'class':'next'}))\n",
    "# Capturing last page here\n",
    "templist = twainsoup.find_all('small', {'class':'author'})\n",
    "for author in templist:\n",
    "    if str(author.text) == 'Mark Twain':\n",
    "        twainquotes.append(author.parent.parent.span.text)\n",
    "for quote in twainquotes:\n",
    "    print(quote)"
   ]
  },
  {
   "cell_type": "code",
   "execution_count": 13,
   "metadata": {},
   "outputs": [
    {
     "name": "stdout",
     "output_type": "stream",
     "text": [
      "Enter a search term: pleasure\n"
     ]
    },
    {
     "ename": "AttributeError",
     "evalue": "'NoneType' object has no attribute 'text'",
     "output_type": "error",
     "traceback": [
      "\u001b[0;31m---------------------------------------------------------------------------\u001b[0m",
      "\u001b[0;31mAttributeError\u001b[0m                            Traceback (most recent call last)",
      "\u001b[0;32m<ipython-input-13-43d48ea6493f>\u001b[0m in \u001b[0;36m<module>\u001b[0;34m\u001b[0m\n\u001b[1;32m     21\u001b[0m             \u001b[0mquotes\u001b[0m\u001b[0;34m.\u001b[0m\u001b[0mappend\u001b[0m\u001b[0;34m(\u001b[0m\u001b[0mitem\u001b[0m\u001b[0;34m.\u001b[0m\u001b[0mtext\u001b[0m\u001b[0;34m)\u001b[0m\u001b[0;34m\u001b[0m\u001b[0;34m\u001b[0m\u001b[0m\n\u001b[1;32m     22\u001b[0m             \u001b[0mauthors\u001b[0m\u001b[0;34m.\u001b[0m\u001b[0mappend\u001b[0m\u001b[0;34m(\u001b[0m\u001b[0mitem\u001b[0m\u001b[0;34m.\u001b[0m\u001b[0mparent\u001b[0m\u001b[0;34m.\u001b[0m\u001b[0msmall\u001b[0m\u001b[0;34m.\u001b[0m\u001b[0mtext\u001b[0m\u001b[0;34m)\u001b[0m\u001b[0;34m\u001b[0m\u001b[0;34m\u001b[0m\u001b[0m\n\u001b[0;32m---> 23\u001b[0;31m             \u001b[0mprint\u001b[0m\u001b[0;34m(\u001b[0m\u001b[0mitem\u001b[0m\u001b[0;34m.\u001b[0m\u001b[0msmall\u001b[0m\u001b[0;34m.\u001b[0m\u001b[0mtext\u001b[0m\u001b[0;34m)\u001b[0m\u001b[0;34m\u001b[0m\u001b[0;34m\u001b[0m\u001b[0m\n\u001b[0m\u001b[1;32m     24\u001b[0m     \u001b[0msearchpage\u001b[0m \u001b[0;34m=\u001b[0m \u001b[0mrequests\u001b[0m\u001b[0;34m.\u001b[0m\u001b[0mget\u001b[0m\u001b[0;34m(\u001b[0m\u001b[0murl\u001b[0m\u001b[0;34m+\u001b[0m\u001b[0murltag\u001b[0m\u001b[0;34m)\u001b[0m\u001b[0;34m\u001b[0m\u001b[0;34m\u001b[0m\u001b[0m\n\u001b[1;32m     25\u001b[0m     \u001b[0msearchsoup\u001b[0m \u001b[0;34m=\u001b[0m \u001b[0mBeautifulSoup\u001b[0m\u001b[0;34m(\u001b[0m\u001b[0msearchpage\u001b[0m\u001b[0;34m.\u001b[0m\u001b[0mcontent\u001b[0m\u001b[0;34m,\u001b[0m \u001b[0;34m'html.parser'\u001b[0m\u001b[0;34m)\u001b[0m\u001b[0;34m\u001b[0m\u001b[0;34m\u001b[0m\u001b[0m\n",
      "\u001b[0;31mAttributeError\u001b[0m: 'NoneType' object has no attribute 'text'"
     ]
    }
   ],
   "source": [
    "# (10) Prompt the user to enter in a search term.  Then print each\n",
    "#      author and quote for any quotes that contain this search term.\n",
    "#      If no quotes are found that contain the search term, \n",
    "#      print \"No matches found\".\n",
    "#      Test results: There are 9 quotes containing 'book'\n",
    "#                    There are 0 quotes containing 'future'\n",
    "searchterm = input('Enter a search term: ')\n",
    "urltag = ''\n",
    "searchpage = requests.get(url)\n",
    "searchsoup = BeautifulSoup(searchpage.content, 'html.parser')\n",
    "searchquotes = []\n",
    "searchauthors = []\n",
    "searchbool = bool(searchsoup.find('li', {'class':'next'}))\n",
    "quotes = []\n",
    "authors = []\n",
    "while searchbool == True:\n",
    "    urltag = searchsoup.find('li', {'class':'next'}).a['href']\n",
    "    tempquote = searchsoup.find_all('span', {'itemprop':'text'})\n",
    "    for item in tempquote:\n",
    "        if searchterm in item.text:\n",
    "            quotes.append(item.text)\n",
    "            authors.append(item.parent.small.text)\n",
    "    searchpage = requests.get(url+urltag)\n",
    "    searchsoup = BeautifulSoup(searchpage.content, 'html.parser')\n",
    "    searchbool = bool(searchsoup.find('li', {'class':'next'}))\n",
    "# Now capture last page\n",
    "searchpage = requests.get(url+urltag)\n",
    "searchsoup = BeautifulSoup(searchpage.content, 'html.parser')\n",
    "tempquote = searchsoup.find_all('span', {'itemprop':'text'})\n",
    "for item in tempquote:\n",
    "    if searchterm in item.text:\n",
    "        quotes.append(item.text)\n",
    "        authors.append(item.parent.small.text)\n",
    "if len(quotes) == 0:\n",
    "    print('No matches found.')\n",
    "else:\n",
    "    count = 0\n",
    "    while count < len(quotes):\n",
    "        print('%s -%s'%(quotes[count], authors[count]))\n",
    "        count += 1"
   ]
  },
  {
   "cell_type": "code",
   "execution_count": null,
   "metadata": {},
   "outputs": [],
   "source": []
  }
 ],
 "metadata": {
  "kernelspec": {
   "display_name": "Python 3",
   "language": "python",
   "name": "python3"
  },
  "language_info": {
   "codemirror_mode": {
    "name": "ipython",
    "version": 3
   },
   "file_extension": ".py",
   "mimetype": "text/x-python",
   "name": "python",
   "nbconvert_exporter": "python",
   "pygments_lexer": "ipython3",
   "version": "3.7.1"
  }
 },
 "nbformat": 4,
 "nbformat_minor": 2
}
